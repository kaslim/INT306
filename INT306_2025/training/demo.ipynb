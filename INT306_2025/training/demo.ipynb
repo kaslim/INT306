{
 "cells": [
  {
   "cell_type": "code",
   "execution_count": 1,
   "id": "4f708a95",
   "metadata": {},
   "outputs": [],
   "source": [
    "import torch\n",
    "import numpy as np\n",
    "import librosa\n",
    "import os"
   ]
  },
  {
   "cell_type": "code",
   "execution_count": 2,
   "id": "c0c22d2a",
   "metadata": {},
   "outputs": [
    {
     "name": "stdout",
     "output_type": "stream",
     "text": [
      "Original audio length (seconds): 45.8449375\n",
      "Input shape: torch.Size([5, 160000])\n"
     ]
    }
   ],
   "source": [
    "# create input audio\n",
    "sampling_rate = 16000\n",
    "seq_length = 10 * sampling_rate\n",
    "\n",
    "filename = librosa.ex('brahms')\n",
    "audio, sr = librosa.load(filename, sr=sampling_rate)\n",
    "print('Original audio length (seconds):', len(audio) / sampling_rate)\n",
    "\n",
    "n_chunk = len(audio) // seq_length\n",
    "audio_chunks = []\n",
    "audio_chunks = np.split(audio[: int(n_chunk * seq_length)], n_chunk)\n",
    "audio_chunks.append(audio[-int(seq_length) :])\n",
    "audio_chunks = torch.from_numpy(np.array(audio_chunks))\n",
    "print('Input shape:', audio_chunks.shape)"
   ]
  },
  {
   "cell_type": "code",
   "execution_count": 19,
   "id": "4006895b",
   "metadata": {},
   "outputs": [
    {
     "name": "stdout",
     "output_type": "stream",
     "text": [
      "---------------AST Model Summary---------------\n",
      "ImageNet pretraining: True, AudioSet pretraining: True\n",
      "frequncey stride=10, time stride=10\n",
      "number of patches=1212\n"
     ]
    },
    {
     "data": {
      "text/plain": [
       "AST(\n",
       "  (ast_mdl): WrappedModel(\n",
       "    (module): ASTModel(\n",
       "      (v): DistilledVisionTransformer(\n",
       "        (patch_embed): PatchEmbed(\n",
       "          (proj): Conv2d(1, 768, kernel_size=(16, 16), stride=(10, 10))\n",
       "        )\n",
       "        (pos_drop): Dropout(p=0.0, inplace=False)\n",
       "        (blocks): ModuleList(\n",
       "          (0-11): 12 x Block(\n",
       "            (norm1): LayerNorm((768,), eps=1e-06, elementwise_affine=True)\n",
       "            (attn): Attention(\n",
       "              (qkv): Linear(in_features=768, out_features=2304, bias=True)\n",
       "              (attn_drop): Dropout(p=0.0, inplace=False)\n",
       "              (proj): Linear(in_features=768, out_features=768, bias=True)\n",
       "              (proj_drop): Dropout(p=0.0, inplace=False)\n",
       "            )\n",
       "            (drop_path): Identity()\n",
       "            (norm2): LayerNorm((768,), eps=1e-06, elementwise_affine=True)\n",
       "            (mlp): Mlp(\n",
       "              (fc1): Linear(in_features=768, out_features=3072, bias=True)\n",
       "              (act): GELU(approximate='none')\n",
       "              (fc2): Linear(in_features=3072, out_features=768, bias=True)\n",
       "              (drop): Dropout(p=0.0, inplace=False)\n",
       "            )\n",
       "          )\n",
       "        )\n",
       "        (norm): LayerNorm((768,), eps=1e-06, elementwise_affine=True)\n",
       "        (pre_logits): Identity()\n",
       "        (head): Linear(in_features=768, out_features=1000, bias=True)\n",
       "        (head_dist): Linear(in_features=768, out_features=1000, bias=True)\n",
       "      )\n",
       "      (mlp_head): Sequential(\n",
       "        (0): LayerNorm((768,), eps=1e-05, elementwise_affine=True)\n",
       "        (1): Linear(in_features=768, out_features=527, bias=True)\n",
       "      )\n",
       "    )\n",
       "  )\n",
       "  (linear): Linear(in_features=54, out_features=1536, bias=True)\n",
       "  (conv): Sequential(\n",
       "    (0): Conv1d(768, 54, kernel_size=(3,), stride=(1,), padding=(1,))\n",
       "    (1): ReLU()\n",
       "    (2): BatchNorm1d(54, eps=1e-05, momentum=0.1, affine=True, track_running_stats=True)\n",
       "    (3): Conv1d(54, 54, kernel_size=(3,), stride=(1,), padding=(1,))\n",
       "    (4): ReLU()\n",
       "    (5): BatchNorm1d(54, eps=1e-05, momentum=0.1, affine=True, track_running_stats=True)\n",
       "    (6): Conv1d(54, 54, kernel_size=(3,), stride=(1,), padding=(1,))\n",
       "    (7): ReLU()\n",
       "    (8): BatchNorm1d(54, eps=1e-05, momentum=0.1, affine=True, track_running_stats=True)\n",
       "    (9): Conv1d(54, 54, kernel_size=(3,), stride=(1,), padding=(1,))\n",
       "  )\n",
       ")"
      ]
     },
     "execution_count": 19,
     "metadata": {},
     "output_type": "execute_result"
    }
   ],
   "source": [
    "# create AST model\n",
    "from models.ASTModel import AST\n",
    "os.makedirs('../../pretrained_models/', exist_ok=True)\n",
    "model = AST(n_class=10, reprog_front='skip', map_num=5)\n",
    "ckpt_path = torch.load('../models/best_model.pth', 'cpu')\n",
    "model.load_state_dict(ckpt_path)\n",
    "model.eval()"
   ]
  },
  {
   "cell_type": "code",
   "execution_count": 20,
   "id": "ea555dd4",
   "metadata": {},
   "outputs": [
    {
     "name": "stdout",
     "output_type": "stream",
     "text": [
      "(5, 10) (5, 768) (5, 768)\n"
     ]
    }
   ],
   "source": [
    "# predict output\n",
    "output, ori_emb, transformed_emb = model(audio_chunks)\n",
    "output = torch.sigmoid(output).detach().cpu().numpy()\n",
    "ori_emb = ori_emb.detach().cpu().numpy()\n",
    "transformed_emb = transformed_emb.detach().cpu().numpy()\n",
    "print(output.shape, ori_emb.shape, transformed_emb.shape)"
   ]
  },
  {
   "cell_type": "code",
   "execution_count": 21,
   "id": "f9bf916a",
   "metadata": {},
   "outputs": [
    {
     "name": "stdout",
     "output_type": "stream",
     "text": [
      "This song is predicted as: classical\n"
     ]
    }
   ],
   "source": [
    "# result\n",
    "mapping = {\n",
    "            0: \"blues\",\n",
    "            1: \"classical\",\n",
    "            2: \"country\",\n",
    "            3: \"disco\",\n",
    "            4: \"hiphop\",\n",
    "            5: \"jazz\",\n",
    "            6: \"metal\",\n",
    "            7: \"pop\",\n",
    "            8: \"reggae\",\n",
    "            9: \"rock\",\n",
    "        }\n",
    "\n",
    "idx = np.argmax(output.mean(0), axis=0)\n",
    "print('This song is predicted as:', mapping[idx])"
   ]
  },
  {
   "cell_type": "code",
   "execution_count": 22,
   "id": "3c8e1fa9",
   "metadata": {},
   "outputs": [
    {
     "data": {
      "text/plain": [
       "<matplotlib.image.AxesImage at 0x285d79550>"
      ]
     },
     "execution_count": 22,
     "metadata": {},
     "output_type": "execute_result"
    },
    {
     "data": {
      "text/plain": [
       "<Figure size 640x480 with 0 Axes>"
      ]
     },
     "metadata": {},
     "output_type": "display_data"
    },
    {
     "data": {
      "image/png": "[encoded data removed]",
      "text/plain": [
       "<Figure size 640x480 with 2 Axes>"
      ]
     },
     "metadata": {},
     "output_type": "display_data"
    }
   ],
   "source": [
    "import matplotlib.pyplot as plt\n",
    "\n",
    "plt.figure()\n",
    "f, axarr = plt.subplots(2,1) \n",
    "\n",
    "# use the created array to output your multiple images. In this case I have stacked 4 images vertically\n",
    "axarr[0].imshow(ori_emb, interpolation='nearest', aspect='auto')\n",
    "axarr[1].imshow(transformed_emb, interpolation='nearest', aspect='auto')\n"
   ]
  },
  {
   "cell_type": "code",
   "execution_count": null,
   "id": "fc11313a",
   "metadata": {},
   "outputs": [],
   "source": []
  },
  {
   "cell_type": "code",
   "execution_count": null,
   "id": "c50b847f",
   "metadata": {},
   "outputs": [],
   "source": []
  }
 ],
 "metadata": {
  "kernelspec": {
   "display_name": "Python 3 (ipykernel)",
   "language": "python",
   "name": "python3"
  },
  "language_info": {
   "codemirror_mode": {
    "name": "ipython",
    "version": 3
   },
   "file_extension": ".py",
   "mimetype": "text/x-python",
   "name": "python",
   "nbconvert_exporter": "python",
   "pygments_lexer": "ipython3",
   "version": "3.8.16"
  }
 },
 "nbformat": 4,
 "nbformat_minor": 5
}
